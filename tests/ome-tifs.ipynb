{
 "cells": [
  {
   "cell_type": "code",
   "execution_count": null,
   "id": "859bf8dd",
   "metadata": {},
   "outputs": [],
   "source": [
    "import xmltodict\n",
    "import os\n",
    "import glob\n",
    "import pandas as pd"
   ]
  },
  {
   "cell_type": "code",
   "execution_count": null,
   "id": "62ede6e8",
   "metadata": {},
   "outputs": [],
   "source": []
  },
  {
   "cell_type": "code",
   "execution_count": null,
   "id": "1810e738",
   "metadata": {},
   "outputs": [],
   "source": [
    "rootdir = '/Volumes/Julie/plume-tracking'\n",
    "session = '20221102'\n",
    "acquisition = 'TSeries-11022022-1740_hdc-split-sytGCaMP7f-60D05_fly3_stripgrid-001'\n",
    "tif_dir = os.path.join(rootdir, session, 'raw', acquisition)"
   ]
  },
  {
   "cell_type": "code",
   "execution_count": null,
   "id": "173afa4c",
   "metadata": {},
   "outputs": [],
   "source": [
    "tif_dir = os.path.splitext(tf_fns[0])[0]\n",
    "print(tif_dir)\n",
    "im_fns = sorted(glob.glob(os.path.join(tf_dir, '*.tif')), key=util.natsort)\n",
    "len(im_fns)"
   ]
  },
  {
   "cell_type": "code",
   "execution_count": null,
   "id": "c7926d62",
   "metadata": {},
   "outputs": [],
   "source": [
    "anat_fn\n",
    "tif = tf.TiffFile(im_fns[0])\n",
    "tif.pages.pages[0].is_ome"
   ]
  },
  {
   "cell_type": "code",
   "execution_count": null,
   "id": "db4e9d5c",
   "metadata": {},
   "outputs": [],
   "source": [
    "ome_dict = xmltodict.parse(tif.ome_metadata)\n"
   ]
  }
 ],
 "metadata": {
  "kernelspec": {
   "display_name": "Python [conda env:plume] *",
   "language": "python",
   "name": "conda-env-plume-py"
  },
  "language_info": {
   "codemirror_mode": {
    "name": "ipython",
    "version": 3
   },
   "file_extension": ".py",
   "mimetype": "text/x-python",
   "name": "python",
   "nbconvert_exporter": "python",
   "pygments_lexer": "ipython3",
   "version": "3.9.13"
  }
 },
 "nbformat": 4,
 "nbformat_minor": 5
}
