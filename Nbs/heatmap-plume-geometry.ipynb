{
 "cells": [
  {
   "cell_type": "code",
   "execution_count": null,
   "id": "1846ec3d",
   "metadata": {},
   "outputs": [],
   "source": []
  },
  {
   "cell_type": "code",
   "execution_count": null,
   "id": "cff7b984",
   "metadata": {},
   "outputs": [],
   "source": []
  },
  {
   "cell_type": "code",
   "execution_count": null,
   "id": "1e68ab4f",
   "metadata": {},
   "outputs": [],
   "source": [
    "df = df0_all.copy()\n",
    "\n",
    "max_nframes = df.groupby('filename')['ft_posy'].count().max()\n",
    "\n",
    "d_list=[]\n",
    "for fi, (fn, df_) in enumerate(df.groupby('filename')):\n",
    "    #up_ = traj.upsample_bout_trajectories(df_, npoints=max_nframes)\n",
    "    x = df_['ft_posx'].values\n",
    "    y = df_['ft_posy'].values\n",
    "    t = np.arange(len(df_))\n",
    "    t_common = np.linspace(t[0], t[-1], max_nframes)\n",
    "    fx = sp.interpolate.interp1d(t, x)\n",
    "    fy = sp.interpolate.interp1d(t, y)\n",
    "\n",
    "    interpx =fx(t_common)\n",
    "    interpy = fy(t_common)\n",
    "    d_ = pd.DataFrame({\n",
    "        'ft_posx': interpx,\n",
    "        'ft_posy': interpy,\n",
    "        'filename': fn,\n",
    "        'fly_id': fi\n",
    "    })    \n",
    "    d_list.append(d_)\n",
    "\n",
    "updf = pd.concat(d_list, axis=0)\n",
    "updf.groupby('filename').count()"
   ]
  },
  {
   "cell_type": "code",
   "execution_count": null,
   "id": "3b1220a4",
   "metadata": {},
   "outputs": [],
   "source": [
    "fig, ax= pl.subplots()\n",
    "for fn, df_ in df.groupby('filename'):\n",
    "    sns.scatterplot(data=df_, x='ft_posx', y='ft_posy', s=0.3, color='w', ax=ax,\n",
    "                   hue='fly_id', palette='bone', legend=0)"
   ]
  },
  {
   "cell_type": "code",
   "execution_count": null,
   "id": "04d919e8",
   "metadata": {},
   "outputs": [],
   "source": []
  },
  {
   "cell_type": "code",
   "execution_count": null,
   "id": "97aced56",
   "metadata": {},
   "outputs": [],
   "source": [
    "from mpl_toolkits.axes_grid1 import make_axes_locatable\n",
    "cmap='Greys'\n",
    "\n",
    "fig, ax = pl.subplots()\n",
    "h, xe, ye, img = ax.hist2d(df['ft_posx'], df['ft_posy'], bins=500, norm=mpl.colors.LogNorm(), cmap=cmap)\n",
    "ax.set_aspect(1)\n",
    "# create an axes on the right side of ax. The width of cax will be 5%\n",
    "# of ax and the padding between cax and ax will be fixed at 0.05 inch.\n",
    "divider = make_axes_locatable(ax)\n",
    "cax = divider.append_axes(\"right\", size=\"2%\", pad=0.05, )\n",
    "   \n",
    "#fig.colorbar(img, ax=ax, fraction=0.046, pad=0.04)\n",
    "n_files = df['filename'].nunique()\n",
    "pl.colorbar(img, cax=cax)\n",
    "ax.set_xlabel('ft_posx')\n",
    "ax.set_xlabel('ft_posy')\n",
    "ax.set_title('N={} trajectories'.format(n_files), loc='left')\n",
    "\n",
    "util.label_figure(fig, figid)\n",
    "\n",
    "figname = 'heatmap_{}'.format(experiment)\n",
    "pl.savefig(os.path.join(figdir, '{}{}.png'.format(figname, plot_st)), dpi=300)\n",
    "# pl.savefig(os.path.join(figdir, '{}.svg'.format(figname)))\n"
   ]
  },
  {
   "cell_type": "code",
   "execution_count": null,
   "id": "8dcbdd00",
   "metadata": {},
   "outputs": [],
   "source": [
    "d_list = []\n",
    "for i, (xi, yi) in enumerate(zip(xe[0:-1], ye[0:-1])):\n",
    "    startix, endix = xi, xe[i+1]\n",
    "    curr_n_x = df[(df['ft_posx']>=startix) & (df['ft_posx']<endix)]['filename'].nunique()\n",
    "    startix, endix = yi, ye[i+1]\n",
    "    curr_n_y = df[(df['ft_posy']>=startix) & (df['ft_posy']<endix)]['filename'].nunique()\n",
    "    \n",
    "    d_ = pd.DataFrame({\n",
    "        'edge': ['x', 'y'],\n",
    "        'edge_value': [xi, yi],\n",
    "        'n_flies': [curr_n_x, curr_n_y],\n",
    "        'index': [i, i]\n",
    "    }, index=[i, i])\n",
    "    \n",
    "    d_list.append(d_)\n",
    "cnts = pd.concat(d_list).reset_index(drop=True)\n",
    "cnts.max()"
   ]
  },
  {
   "cell_type": "code",
   "execution_count": null,
   "id": "3f3c3d1a",
   "metadata": {},
   "outputs": [],
   "source": [
    "kdeplot = sns.jointplot(data=df, x=\"ft_posx\", y=\"ft_posy\", kind=\"hex\",\n",
    "              joint_kws=dict(gridsize=20))\n",
    "             #marginal_kws=dict(bins=1000, fill=False))\n",
    "# make new ax object for the cbar\n",
    "# cbar_ax = hexplot.fig.add_axes([.85, .25, .05, .4])  # x, y, width, height\n",
    "# pl.subplots_adjust(left=0.2, right=0.8, top=0.8, bottom=0.2)  # shrink fig so cbar is visible\n",
    "# # make new ax object for the cbar\n",
    "# cbar_ax = hexplot.fig.add_axes([.85, .25, .05, .4])  # x, y, width, height\n",
    "# pl.colorbar(cax=cbar_ax)\n",
    "\n",
    "pl.subplots_adjust(left=0.1, right=0.8, top=0.9, bottom=0.1)\n",
    "pos_joint_ax = kdeplot.ax_joint.get_position()\n",
    "pos_marg_x_ax = kdeplot.ax_marg_x.get_position()\n",
    "kdeplot.ax_joint.set_position([pos_joint_ax.x0, pos_joint_ax.y0, pos_marg_x_ax.width,\n",
    "                               pos_joint_ax.height])\n",
    "kdeplot.fig.axes[-1].set_position([.83, pos_joint_ax.y0, .07, pos_joint_ax.height])\n",
    "\n",
    "# get the current colorbar ticks\n",
    "cbar_ticks = kdeplot.fig.axes[-1].get_yticks()\n",
    "# get the maximum value of the colorbar\n",
    "_, cbar_max = kdeplot.fig.axes[-1].get_ylim()\n",
    "# change the labels (not the ticks themselves) to a percentage\n",
    "kdeplot.fig.axes[-1].set_yticklabels([f'{t / cbar_max * 100:.1f} %' for t in cbar_ticks])\n",
    "\n",
    "pl.show()"
   ]
  },
  {
   "cell_type": "code",
   "execution_count": null,
   "id": "e3b03bed",
   "metadata": {},
   "outputs": [],
   "source": []
  }
 ],
 "metadata": {
  "kernelspec": {
   "display_name": "Python [conda env:plume] *",
   "language": "python",
   "name": "conda-env-plume-py"
  },
  "language_info": {
   "codemirror_mode": {
    "name": "ipython",
    "version": 3
   },
   "file_extension": ".py",
   "mimetype": "text/x-python",
   "name": "python",
   "nbconvert_exporter": "python",
   "pygments_lexer": "ipython3",
   "version": "3.9.15"
  }
 },
 "nbformat": 4,
 "nbformat_minor": 5
}
