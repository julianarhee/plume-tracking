{
 "cells": [
  {
   "cell_type": "code",
   "execution_count": null,
   "id": "44aa2aec",
   "metadata": {},
   "outputs": [],
   "source": [
    "import os\n",
    "import glob\n",
    "import sys\n",
    "import importlib\n",
    "import pandas as pd\n",
    "import numpy as np\n",
    "import matplotlib as mpl\n",
    "mpl.use('nbagg')\n",
    "import seaborn as sns\n",
    "import pylab as pl\n",
    "\n",
    "# import some custom funcs\n",
    "module_path = os.path.abspath(os.path.join('..'))\n",
    "if module_path not in sys.path:\n",
    "    sys.path.append(module_path)\n",
    "import utils as util\n",
    "import behavior as butil"
   ]
  },
  {
   "cell_type": "code",
   "execution_count": null,
   "id": "17482f63",
   "metadata": {},
   "outputs": [],
   "source": [
    "util.set_sns_style(style='dark')\n",
    "%matplotlib notebook"
   ]
  },
  {
   "cell_type": "code",
   "execution_count": null,
   "id": "3c545707",
   "metadata": {},
   "outputs": [],
   "source": [
    "root_dir = '/Users/julianarhee/Library/CloudStorage/GoogleDrive-edge.tracking.ru@gmail.com/My Drive/Edge_Tracking/Data'\n",
    "experiment = 'Spontaneous_edge_tracking' \n",
    "\n",
    "fig_id = os.path.join(root_dir.split('/My Drive')[1], experiment)\n",
    "src_dir = os.path.join(root_dir, experiment)\n",
    "save_dir = '/Users/julianarhee/Documents/rutalab/data/figures/{}/rdp'.format(experiment)\n",
    "save_dir = save_dir.replace(\" \", \"\")\n",
    "\n",
    "print(\"Saving figures to:{}    {}\".format('\\n', save_dir))\n",
    "if not os.path.exists(save_dir):\n",
    "    os.makedirs(save_dir)"
   ]
  },
  {
   "cell_type": "code",
   "execution_count": null,
   "id": "2f6d2fcc",
   "metadata": {},
   "outputs": [],
   "source": [
    "log_files = sorted([k for k in glob.glob(os.path.join(src_dir, '*.log'))\\\n",
    "                if 'lossed tracking' not in k], key=util.natsort)\n",
    "print(\"Found {} tracking files.\".format(len(log_files)))\n",
    "#log_files"
   ]
  },
  {
   "cell_type": "code",
   "execution_count": null,
   "id": "f9262d87",
   "metadata": {},
   "outputs": [],
   "source": [
    "# Load dataframes\n",
    "dlist = []\n",
    "for fpath in log_files:\n",
    "    #air_only = '_Air' in fpath or '_air' in fpath\n",
    "    #print(fpath, air_only)\n",
    "    exp, datestr, fly_id, cond = butil.parse_info_from_file(fpath)\n",
    "    df_ = butil.load_dataframe(fpath, mfc_id=None, verbose=False, cond=None)\n",
    "    dlist.append(df_)\n",
    "df0 = pd.concat(dlist, axis=0)\n",
    "df0.loc[df0['condition']=='light', 'condition'] = 'lightonly'"
   ]
  }
 ],
 "metadata": {
  "kernelspec": {
   "display_name": "Python [conda env:plume] *",
   "language": "python",
   "name": "conda-env-plume-py"
  },
  "language_info": {
   "codemirror_mode": {
    "name": "ipython",
    "version": 3
   },
   "file_extension": ".py",
   "mimetype": "text/x-python",
   "name": "python",
   "nbconvert_exporter": "python",
   "pygments_lexer": "ipython3",
   "version": "3.9.13"
  }
 },
 "nbformat": 4,
 "nbformat_minor": 5
}
