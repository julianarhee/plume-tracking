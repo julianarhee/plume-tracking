{
 "cells": [
  {
   "cell_type": "code",
   "execution_count": 1,
   "id": "4a953965",
   "metadata": {},
   "outputs": [],
   "source": [
    "import os\n",
    "import glob\n",
    "import sys\n",
    "import pandas as pd\n",
    "import numpy as np\n",
    "# plotting modules\n",
    "import matplotlib as mpl\n",
    "mpl.use('nbagg')\n",
    "import seaborn as sns\n",
    "import pylab as pl\n",
    "# import some custom funcs|\n",
    "module_path = os.path.abspath(os.path.join('..'))\n",
    "if module_path not in sys.path:\n",
    "    sys.path.append(module_path)\n",
    "import utils as util\n",
    "import behavior as butil"
   ]
  },
  {
   "cell_type": "code",
   "execution_count": 2,
   "id": "b83dc7cc",
   "metadata": {},
   "outputs": [],
   "source": [
    "%matplotlib notebook"
   ]
  },
  {
   "cell_type": "code",
   "execution_count": 3,
   "id": "162d1ab0",
   "metadata": {},
   "outputs": [],
   "source": [
    "util.set_sns_style(style='dark') # plotting settings i like for Nbs"
   ]
  },
  {
   "cell_type": "code",
   "execution_count": 4,
   "id": "007d20f3",
   "metadata": {},
   "outputs": [
    {
     "name": "stdout",
     "output_type": "stream",
     "text": [
      "Saving figures to:\n",
      "    /Users/julianarhee/Documents/rutalab/data/figures/HDC_inhibition_CM\n"
     ]
    }
   ],
   "source": [
    "# Set rootdir - I usually set this to the parent dir of all the data\n",
    "rootdir = '/Users/julianarhee/Library/CloudStorage/GoogleDrive-edge.tracking.ru@gmail.com\\\n",
    "/My Drive/Edge_Tracking/Data'\n",
    "\n",
    "# Specify experiment to analyze\n",
    "# experiment = 'stripgrid_hdc-sytGCaMP7f_2p/20221102' \n",
    "experiment = 'HDC_inhibition_CM' \n",
    "src_dir = os.path.join(rootdir, experiment)\n",
    "\n",
    "# Create a save dir for figures wherever you want\n",
    "# I create a separate dir since I don't want to mess with Andy's existing organization\n",
    "save_dir = '/Users/julianarhee/Documents/rutalab/data/figures/{}'.format(experiment)\n",
    "save_dir = save_dir.replace(\" \", \"\")\n",
    "print(\"Saving figures to:{}    {}\".format('\\n', save_dir))\n",
    "if not os.path.exists(save_dir):\n",
    "    os.makedirs(save_dir)\n",
    "\n",
    "# Create a label/ID for figures so you always know where the plotted data came from\n",
    "fig_id = src_dir.split('/My Drive')[1] #, experiment) "
   ]
  },
  {
   "cell_type": "code",
   "execution_count": null,
   "id": "7d7bd8ad",
   "metadata": {},
   "outputs": [],
   "source": [
    "os,"
   ]
  },
  {
   "cell_type": "code",
   "execution_count": 19,
   "id": "1a6eced4",
   "metadata": {},
   "outputs": [
    {
     "name": "stdout",
     "output_type": "stream",
     "text": [
      "Found 4 tracking files.\n",
      "0: 11012022-110656_HdC_inhibition_thresh500_Fly1.log\n",
      "1: 11012022-113023_HdC_inhibition_nothresh_Fly1.log\n",
      "2: 11092022-151404_HDC_inhibition_nothresh_Fly1.log\n",
      "3: 11092022-151958_HDC_inhibition_outside_500thresh_Fly1.log\n"
     ]
    }
   ],
   "source": [
    "# get a list of all the data files\n",
    "fly='Fly1'\n",
    "log_files = sorted([k for k in glob.glob(os.path.join(src_dir, '*{}*.log'.format(fly)))\\\n",
    "                if 'lossed tracking' not in k], key=util.natsort)\n",
    "print(\"Found {} tracking files.\".format(len(log_files)))\n",
    "for i, fn in enumerate(log_files):\n",
    "    print(\"{}: {}\".format(i, os.path.split(fn)[-1]))"
   ]
  },
  {
   "cell_type": "code",
   "execution_count": 20,
   "id": "0cc43465",
   "metadata": {},
   "outputs": [
    {
     "name": "stdout",
     "output_type": "stream",
     "text": [
      "Selected: /Users/julianarhee/Library/CloudStorage/GoogleDrive-edge.tracking.ru@gmail.com/My Drive/Edge_Tracking/Data/HDC_inhibition_CM/11012022-113023_HdC_inhibition_nothresh_Fly1.log\n"
     ]
    }
   ],
   "source": [
    "file_ix = 1 # select a file\n",
    "fpath = log_files[file_ix]\n",
    "print(\"Selected: {}\".format(fpath))"
   ]
  },
  {
   "cell_type": "code",
   "execution_count": 21,
   "id": "5ff8134a",
   "metadata": {},
   "outputs": [
    {
     "data": {
      "text/plain": [
       "<module 'behavior' from '/Users/julianarhee/Repositories/plume-tracking/behavior.py'>"
      ]
     },
     "execution_count": 21,
     "metadata": {},
     "output_type": "execute_result"
    }
   ],
   "source": [
    "importlib.reload(butil)"
   ]
  },
  {
   "cell_type": "code",
   "execution_count": 25,
   "id": "ac6eb99f",
   "metadata": {},
   "outputs": [
    {
     "data": {
      "text/plain": [
       "('HDC_inhibition_CM', '11012022-113023', 'fly1', 'hdc_inhibition_nothresh')"
      ]
     },
     "execution_count": 25,
     "metadata": {},
     "output_type": "execute_result"
    }
   ],
   "source": [
    "# try to parse experiment details from the filename\n",
    "exp, datestr, fid, cond = butil.parse_info_from_file(fpath)\n",
    "exp, datestr, fid, cond"
   ]
  },
  {
   "cell_type": "code",
   "execution_count": 26,
   "id": "9022273c",
   "metadata": {},
   "outputs": [
    {
     "ename": "TimeoutError",
     "evalue": "[Errno 60] Operation timed out",
     "output_type": "error",
     "traceback": [
      "\u001b[0;31m---------------------------------------------------------------------------\u001b[0m",
      "\u001b[0;31mTimeoutError\u001b[0m                              Traceback (most recent call last)",
      "Cell \u001b[0;32mIn [26], line 4\u001b[0m\n\u001b[1;32m      2\u001b[0m exp, datestr, fid, cond \u001b[38;5;241m=\u001b[39m butil\u001b[38;5;241m.\u001b[39mparse_info_from_file(fpath)\n\u001b[1;32m      3\u001b[0m \u001b[38;5;66;03m# load and process the csv data  \u001b[39;00m\n\u001b[0;32m----> 4\u001b[0m df0 \u001b[38;5;241m=\u001b[39m \u001b[48;5;9mbutil\u001b[49m\u001b[38;5;241;48;5;9m.\u001b[39;49m\u001b[48;5;9mload_dataframe\u001b[49m\u001b[48;5;9m(\u001b[49m\u001b[48;5;9mfpath\u001b[49m\u001b[48;5;9m,\u001b[49m\u001b[48;5;9m \u001b[49m\u001b[48;5;9mmfc_id\u001b[49m\u001b[38;5;241;48;5;9m=\u001b[39;49m\u001b[38;5;28;48;5;9;01mNone\u001b[39;49;00m\u001b[48;5;9m,\u001b[49m\u001b[48;5;9m \u001b[49m\u001b[48;5;9mverbose\u001b[49m\u001b[38;5;241;48;5;9m=\u001b[39;49m\u001b[38;5;28;48;5;9;01mFalse\u001b[39;49;00m\u001b[48;5;9m,\u001b[49m\u001b[48;5;9m \u001b[49m\u001b[48;5;9mcond\u001b[49m\u001b[38;5;241;48;5;9m=\u001b[39;49m\u001b[38;5;28;48;5;9;01mNone\u001b[39;49;00m\u001b[48;5;9m)\u001b[49m\n\u001b[1;32m      5\u001b[0m \u001b[38;5;28mprint\u001b[39m(\u001b[38;5;124m'\u001b[39m\u001b[38;5;124mExperiment: \u001b[39m\u001b[38;5;132;01m{}\u001b[39;00m\u001b[38;5;132;01m{}\u001b[39;00m\u001b[38;5;124mFly ID: \u001b[39m\u001b[38;5;132;01m{}\u001b[39;00m\u001b[38;5;132;01m{}\u001b[39;00m\u001b[38;5;124mCondition: \u001b[39m\u001b[38;5;132;01m{}\u001b[39;00m\u001b[38;5;124m'\u001b[39m\u001b[38;5;241m.\u001b[39mformat(exp, \u001b[38;5;124m'\u001b[39m\u001b[38;5;130;01m\\n\u001b[39;00m\u001b[38;5;124m'\u001b[39m, fid, \u001b[38;5;124m'\u001b[39m\u001b[38;5;130;01m\\n\u001b[39;00m\u001b[38;5;124m'\u001b[39m, cond))\n\u001b[1;32m      6\u001b[0m fly_id \u001b[38;5;241m=\u001b[39m df0[\u001b[38;5;124m'\u001b[39m\u001b[38;5;124mfly_id\u001b[39m\u001b[38;5;124m'\u001b[39m]\u001b[38;5;241m.\u001b[39munique()[\u001b[38;5;241m0\u001b[39m]\n",
      "File \u001b[0;32m~/Repositories/plume-tracking/behavior.py:103\u001b[0m, in \u001b[0;36mload_dataframe\u001b[0;34m(fpath, mfc_id, led_id, verbose, cond, parse_info)\u001b[0m\n\u001b[1;32m     92\u001b[0m \u001b[38;5;124;03m'''\u001b[39;00m\n\u001b[1;32m     93\u001b[0m \u001b[38;5;124;03mRead raw .log file from behavior and return formatted dataframe.\u001b[39;00m\n\u001b[1;32m     94\u001b[0m \u001b[38;5;124;03mAssumes MFC for odor is either 'mfc2_stpt' or 'mfc3_stpt'.\u001b[39;00m\n\u001b[0;32m   (...)\u001b[0m\n\u001b[1;32m     99\u001b[0m \u001b[38;5;124;03m    mfc_id -- None, will find mfc var for odor automatically, otherwise \"mfc2\"\u001b[39;00m\n\u001b[1;32m    100\u001b[0m \u001b[38;5;124;03m'''\u001b[39;00m\n\u001b[1;32m    101\u001b[0m \u001b[38;5;66;03m# read .log as dataframe \u001b[39;00m\n\u001b[0;32m--> 103\u001b[0m df0 \u001b[38;5;241m=\u001b[39m \u001b[48;5;9mpd\u001b[49m\u001b[38;5;241;48;5;9m.\u001b[39;49m\u001b[48;5;9mread_table\u001b[49m\u001b[48;5;9m(\u001b[49m\u001b[48;5;9mfpath\u001b[49m\u001b[48;5;9m,\u001b[49m\u001b[48;5;9m \u001b[49m\u001b[48;5;9msep\u001b[49m\u001b[38;5;241;48;5;9m=\u001b[39;49m\u001b[38;5;124;48;5;9m\"\u001b[39;49m\u001b[38;5;124;48;5;9m,\u001b[39;49m\u001b[38;5;124;48;5;9m\"\u001b[39;49m\u001b[48;5;9m,\u001b[49m\u001b[48;5;9m \u001b[49m\u001b[48;5;9mskiprows\u001b[49m\u001b[38;5;241;48;5;9m=\u001b[39;49m\u001b[48;5;9m[\u001b[49m\u001b[38;5;241;48;5;9m1\u001b[39;49m\u001b[48;5;9m]\u001b[49m\u001b[48;5;9m,\u001b[49m\u001b[48;5;9m \u001b[49m\u001b[48;5;9mheader\u001b[49m\u001b[38;5;241;48;5;9m=\u001b[39;49m\u001b[38;5;241;48;5;9m0\u001b[39;49m\u001b[48;5;9m,\u001b[49m\u001b[48;5;9m \u001b[49m\n\u001b[1;32m    104\u001b[0m \u001b[48;5;9m          \u001b[49m\u001b[48;5;9mparse_dates\u001b[49m\u001b[38;5;241;48;5;9m=\u001b[39;49m\u001b[48;5;9m[\u001b[49m\u001b[38;5;241;48;5;9m1\u001b[39;49m\u001b[48;5;9m]\u001b[49m\u001b[48;5;9m)\u001b[49m\u001b[38;5;241m.\u001b[39mrename(columns\u001b[38;5;241m=\u001b[39m\u001b[38;5;28;01mlambda\u001b[39;00m x: x\u001b[38;5;241m.\u001b[39mstrip())\n\u001b[1;32m    105\u001b[0m \u001b[38;5;28;01mif\u001b[39;00m \u001b[38;5;124m'\u001b[39m\u001b[38;5;124minstrip\u001b[39m\u001b[38;5;124m'\u001b[39m \u001b[38;5;129;01mnot\u001b[39;00m \u001b[38;5;129;01min\u001b[39;00m df0\u001b[38;5;241m.\u001b[39mcolumns:\n\u001b[1;32m    106\u001b[0m     df0[\u001b[38;5;124m'\u001b[39m\u001b[38;5;124minstrip\u001b[39m\u001b[38;5;124m'\u001b[39m] \u001b[38;5;241m=\u001b[39m \u001b[38;5;28;01mFalse\u001b[39;00m\n",
      "File \u001b[0;32m~/miniforge3/envs/plume/lib/python3.9/site-packages/pandas/util/_decorators.py:211\u001b[0m, in \u001b[0;36mdeprecate_kwarg.<locals>._deprecate_kwarg.<locals>.wrapper\u001b[0;34m(*args, **kwargs)\u001b[0m\n\u001b[1;32m    209\u001b[0m     \u001b[38;5;28;01melse\u001b[39;00m:\n\u001b[1;32m    210\u001b[0m         kwargs[new_arg_name] \u001b[38;5;241m=\u001b[39m new_arg_value\n\u001b[0;32m--> 211\u001b[0m \u001b[38;5;28;01mreturn\u001b[39;00m \u001b[48;5;9mfunc\u001b[49m\u001b[48;5;9m(\u001b[49m\u001b[38;5;241;48;5;9m*\u001b[39;49m\u001b[48;5;9margs\u001b[49m\u001b[48;5;9m,\u001b[49m\u001b[48;5;9m \u001b[49m\u001b[38;5;241;48;5;9m*\u001b[39;49m\u001b[38;5;241;48;5;9m*\u001b[39;49m\u001b[48;5;9mkwargs\u001b[49m\u001b[48;5;9m)\u001b[49m\n",
      "File \u001b[0;32m~/miniforge3/envs/plume/lib/python3.9/site-packages/pandas/util/_decorators.py:317\u001b[0m, in \u001b[0;36mdeprecate_nonkeyword_arguments.<locals>.decorate.<locals>.wrapper\u001b[0;34m(*args, **kwargs)\u001b[0m\n\u001b[1;32m    311\u001b[0m \u001b[38;5;28;01mif\u001b[39;00m \u001b[38;5;28mlen\u001b[39m(args) \u001b[38;5;241m>\u001b[39m num_allow_args:\n\u001b[1;32m    312\u001b[0m     warnings\u001b[38;5;241m.\u001b[39mwarn(\n\u001b[1;32m    313\u001b[0m         msg\u001b[38;5;241m.\u001b[39mformat(arguments\u001b[38;5;241m=\u001b[39marguments),\n\u001b[1;32m    314\u001b[0m         \u001b[38;5;167;01mFutureWarning\u001b[39;00m,\n\u001b[1;32m    315\u001b[0m         stacklevel\u001b[38;5;241m=\u001b[39mfind_stack_level(inspect\u001b[38;5;241m.\u001b[39mcurrentframe()),\n\u001b[1;32m    316\u001b[0m     )\n\u001b[0;32m--> 317\u001b[0m \u001b[38;5;28;01mreturn\u001b[39;00m \u001b[48;5;9mfunc\u001b[49m\u001b[48;5;9m(\u001b[49m\u001b[38;5;241;48;5;9m*\u001b[39;49m\u001b[48;5;9margs\u001b[49m\u001b[48;5;9m,\u001b[49m\u001b[48;5;9m \u001b[49m\u001b[38;5;241;48;5;9m*\u001b[39;49m\u001b[38;5;241;48;5;9m*\u001b[39;49m\u001b[48;5;9mkwargs\u001b[49m\u001b[48;5;9m)\u001b[49m\n",
      "File \u001b[0;32m~/miniforge3/envs/plume/lib/python3.9/site-packages/pandas/io/parsers/readers.py:1289\u001b[0m, in \u001b[0;36mread_table\u001b[0;34m(filepath_or_buffer, sep, delimiter, header, names, index_col, usecols, squeeze, prefix, mangle_dupe_cols, dtype, engine, converters, true_values, false_values, skipinitialspace, skiprows, skipfooter, nrows, na_values, keep_default_na, na_filter, verbose, skip_blank_lines, parse_dates, infer_datetime_format, keep_date_col, date_parser, dayfirst, cache_dates, iterator, chunksize, compression, thousands, decimal, lineterminator, quotechar, quoting, doublequote, escapechar, comment, encoding, encoding_errors, dialect, error_bad_lines, warn_bad_lines, on_bad_lines, delim_whitespace, low_memory, memory_map, float_precision, storage_options)\u001b[0m\n\u001b[1;32m   1274\u001b[0m kwds_defaults \u001b[38;5;241m=\u001b[39m _refine_defaults_read(\n\u001b[1;32m   1275\u001b[0m     dialect,\n\u001b[1;32m   1276\u001b[0m     delimiter,\n\u001b[0;32m   (...)\u001b[0m\n\u001b[1;32m   1285\u001b[0m     defaults\u001b[38;5;241m=\u001b[39m{\u001b[38;5;124m\"\u001b[39m\u001b[38;5;124mdelimiter\u001b[39m\u001b[38;5;124m\"\u001b[39m: \u001b[38;5;124m\"\u001b[39m\u001b[38;5;130;01m\\t\u001b[39;00m\u001b[38;5;124m\"\u001b[39m},\n\u001b[1;32m   1286\u001b[0m )\n\u001b[1;32m   1287\u001b[0m kwds\u001b[38;5;241m.\u001b[39mupdate(kwds_defaults)\n\u001b[0;32m-> 1289\u001b[0m \u001b[38;5;28;01mreturn\u001b[39;00m \u001b[48;5;9m_read\u001b[49m\u001b[48;5;9m(\u001b[49m\u001b[48;5;9mfilepath_or_buffer\u001b[49m\u001b[48;5;9m,\u001b[49m\u001b[48;5;9m \u001b[49m\u001b[48;5;9mkwds\u001b[49m\u001b[48;5;9m)\u001b[49m\n",
      "File \u001b[0;32m~/miniforge3/envs/plume/lib/python3.9/site-packages/pandas/io/parsers/readers.py:605\u001b[0m, in \u001b[0;36m_read\u001b[0;34m(filepath_or_buffer, kwds)\u001b[0m\n\u001b[1;32m    602\u001b[0m _validate_names(kwds\u001b[38;5;241m.\u001b[39mget(\u001b[38;5;124m\"\u001b[39m\u001b[38;5;124mnames\u001b[39m\u001b[38;5;124m\"\u001b[39m, \u001b[38;5;28;01mNone\u001b[39;00m))\n\u001b[1;32m    604\u001b[0m \u001b[38;5;66;03m# Create the parser.\u001b[39;00m\n\u001b[0;32m--> 605\u001b[0m parser \u001b[38;5;241m=\u001b[39m \u001b[48;5;9mTextFileReader\u001b[49m\u001b[48;5;9m(\u001b[49m\u001b[48;5;9mfilepath_or_buffer\u001b[49m\u001b[48;5;9m,\u001b[49m\u001b[48;5;9m \u001b[49m\u001b[38;5;241;48;5;9m*\u001b[39;49m\u001b[38;5;241;48;5;9m*\u001b[39;49m\u001b[48;5;9mkwds\u001b[49m\u001b[48;5;9m)\u001b[49m\n\u001b[1;32m    607\u001b[0m \u001b[38;5;28;01mif\u001b[39;00m chunksize \u001b[38;5;129;01mor\u001b[39;00m iterator:\n\u001b[1;32m    608\u001b[0m     \u001b[38;5;28;01mreturn\u001b[39;00m parser\n",
      "File \u001b[0;32m~/miniforge3/envs/plume/lib/python3.9/site-packages/pandas/io/parsers/readers.py:1442\u001b[0m, in \u001b[0;36mTextFileReader.__init__\u001b[0;34m(self, f, engine, **kwds)\u001b[0m\n\u001b[1;32m   1439\u001b[0m     \u001b[38;5;28mself\u001b[39m\u001b[38;5;241m.\u001b[39moptions[\u001b[38;5;124m\"\u001b[39m\u001b[38;5;124mhas_index_names\u001b[39m\u001b[38;5;124m\"\u001b[39m] \u001b[38;5;241m=\u001b[39m kwds[\u001b[38;5;124m\"\u001b[39m\u001b[38;5;124mhas_index_names\u001b[39m\u001b[38;5;124m\"\u001b[39m]\n\u001b[1;32m   1441\u001b[0m \u001b[38;5;28mself\u001b[39m\u001b[38;5;241m.\u001b[39mhandles: IOHandles \u001b[38;5;241m|\u001b[39m \u001b[38;5;28;01mNone\u001b[39;00m \u001b[38;5;241m=\u001b[39m \u001b[38;5;28;01mNone\u001b[39;00m\n\u001b[0;32m-> 1442\u001b[0m \u001b[38;5;28mself\u001b[39m\u001b[38;5;241m.\u001b[39m_engine \u001b[38;5;241m=\u001b[39m \u001b[38;5;28;48;5;9mself\u001b[39;49m\u001b[38;5;241;48;5;9m.\u001b[39;49m\u001b[48;5;9m_make_engine\u001b[49m\u001b[48;5;9m(\u001b[49m\u001b[48;5;9mf\u001b[49m\u001b[48;5;9m,\u001b[49m\u001b[48;5;9m \u001b[49m\u001b[38;5;28;48;5;9mself\u001b[39;49m\u001b[38;5;241;48;5;9m.\u001b[39;49m\u001b[48;5;9mengine\u001b[49m\u001b[48;5;9m)\u001b[49m\n",
      "File \u001b[0;32m~/miniforge3/envs/plume/lib/python3.9/site-packages/pandas/io/parsers/readers.py:1747\u001b[0m, in \u001b[0;36mTextFileReader._make_engine\u001b[0;34m(self, f, engine)\u001b[0m\n\u001b[1;32m   1744\u001b[0m     \u001b[38;5;28;01mraise\u001b[39;00m \u001b[38;5;167;01mValueError\u001b[39;00m(msg)\n\u001b[1;32m   1746\u001b[0m \u001b[38;5;28;01mtry\u001b[39;00m:\n\u001b[0;32m-> 1747\u001b[0m     \u001b[38;5;28;01mreturn\u001b[39;00m \u001b[48;5;9mmapping\u001b[49m\u001b[48;5;9m[\u001b[49m\u001b[48;5;9mengine\u001b[49m\u001b[48;5;9m]\u001b[49m\u001b[48;5;9m(\u001b[49m\u001b[48;5;9mf\u001b[49m\u001b[48;5;9m,\u001b[49m\u001b[48;5;9m \u001b[49m\u001b[38;5;241;48;5;9m*\u001b[39;49m\u001b[38;5;241;48;5;9m*\u001b[39;49m\u001b[38;5;28;48;5;9mself\u001b[39;49m\u001b[38;5;241;48;5;9m.\u001b[39;49m\u001b[48;5;9moptions\u001b[49m\u001b[48;5;9m)\u001b[49m\n\u001b[1;32m   1748\u001b[0m \u001b[38;5;28;01mexcept\u001b[39;00m \u001b[38;5;167;01mException\u001b[39;00m:\n\u001b[1;32m   1749\u001b[0m     \u001b[38;5;28;01mif\u001b[39;00m \u001b[38;5;28mself\u001b[39m\u001b[38;5;241m.\u001b[39mhandles \u001b[38;5;129;01mis\u001b[39;00m \u001b[38;5;129;01mnot\u001b[39;00m \u001b[38;5;28;01mNone\u001b[39;00m:\n",
      "File \u001b[0;32m~/miniforge3/envs/plume/lib/python3.9/site-packages/pandas/io/parsers/c_parser_wrapper.py:92\u001b[0m, in \u001b[0;36mCParserWrapper.__init__\u001b[0;34m(self, src, **kwds)\u001b[0m\n\u001b[1;32m     89\u001b[0m     kwds\u001b[38;5;241m.\u001b[39mpop(key, \u001b[38;5;28;01mNone\u001b[39;00m)\n\u001b[1;32m     91\u001b[0m kwds[\u001b[38;5;124m\"\u001b[39m\u001b[38;5;124mdtype\u001b[39m\u001b[38;5;124m\"\u001b[39m] \u001b[38;5;241m=\u001b[39m ensure_dtype_objs(kwds\u001b[38;5;241m.\u001b[39mget(\u001b[38;5;124m\"\u001b[39m\u001b[38;5;124mdtype\u001b[39m\u001b[38;5;124m\"\u001b[39m, \u001b[38;5;28;01mNone\u001b[39;00m))\n\u001b[0;32m---> 92\u001b[0m \u001b[38;5;28mself\u001b[39m\u001b[38;5;241m.\u001b[39m_reader \u001b[38;5;241m=\u001b[39m \u001b[48;5;9mparsers\u001b[49m\u001b[38;5;241;48;5;9m.\u001b[39;49m\u001b[48;5;9mTextReader\u001b[49m\u001b[48;5;9m(\u001b[49m\u001b[48;5;9msrc\u001b[49m\u001b[48;5;9m,\u001b[49m\u001b[48;5;9m \u001b[49m\u001b[38;5;241;48;5;9m*\u001b[39;49m\u001b[38;5;241;48;5;9m*\u001b[39;49m\u001b[48;5;9mkwds\u001b[49m\u001b[48;5;9m)\u001b[49m\n\u001b[1;32m     94\u001b[0m \u001b[38;5;28mself\u001b[39m\u001b[38;5;241m.\u001b[39munnamed_cols \u001b[38;5;241m=\u001b[39m \u001b[38;5;28mself\u001b[39m\u001b[38;5;241m.\u001b[39m_reader\u001b[38;5;241m.\u001b[39munnamed_cols\n\u001b[1;32m     96\u001b[0m \u001b[38;5;66;03m# error: Cannot determine type of 'names'\u001b[39;00m\n",
      "File \u001b[0;32m~/miniforge3/envs/plume/lib/python3.9/site-packages/pandas/_libs/parsers.pyx:547\u001b[0m, in \u001b[0;36mpandas._libs.parsers.TextReader.__cinit__\u001b[0;34m()\u001b[0m\n",
      "File \u001b[0;32m~/miniforge3/envs/plume/lib/python3.9/site-packages/pandas/_libs/parsers.pyx:636\u001b[0m, in \u001b[0;36mpandas._libs.parsers.TextReader._get_header\u001b[0;34m()\u001b[0m\n",
      "File \u001b[0;32m~/miniforge3/envs/plume/lib/python3.9/site-packages/pandas/_libs/parsers.pyx:852\u001b[0m, in \u001b[0;36mpandas._libs.parsers.TextReader._tokenize_rows\u001b[0;34m()\u001b[0m\n",
      "File \u001b[0;32m~/miniforge3/envs/plume/lib/python3.9/site-packages/pandas/_libs/parsers.pyx:1965\u001b[0m, in \u001b[0;36mpandas._libs.parsers.raise_parser_error\u001b[0;34m()\u001b[0m\n",
      "\u001b[0;31mTimeoutError\u001b[0m: [Errno 60] Operation timed out"
     ]
    }
   ],
   "source": [
    "# try to parse experiment details from the filename\n",
    "exp, datestr, fid, cond = butil.parse_info_from_file(fpath)\n",
    "# load and process the csv data  \n",
    "df0 = butil.load_dataframe(fpath, mfc_id=None, verbose=False, cond=None)\n",
    "print('Experiment: {}{}Fly ID: {}{}Condition: {}'.format(exp, '\\n', fid, '\\n', cond))\n",
    "fly_id = df0['fly_id'].unique()[0]\n",
    "df0.head()"
   ]
  },
  {
   "cell_type": "code",
   "execution_count": null,
   "id": "0c8ebc81",
   "metadata": {},
   "outputs": [],
   "source": [
    "# get experimentally determined odor boundaries:\n",
    "strip_width=50\n",
    "strip_sep=200 # only matters for 2p\n",
    "ogrid = butil.get_odor_grid(df0, \n",
    "                            strip_width=strip_width, strip_sep=strip_sep,\n",
    "                            use_crossings=True, verbose=False)\n",
    "(odor_xmin, odor_xmax), = ogrid.values()\n",
    "print(ogrid)"
   ]
  },
  {
   "cell_type": "code",
   "execution_count": null,
   "id": "e84d7f57",
   "metadata": {},
   "outputs": [],
   "source": [
    "# Set some plotting params \n",
    "hue_varname='led_on'\n",
    "palette={True: 'r', False: 'w'}\n",
    "start_at_odor = True\n",
    "strip_width=10\n",
    "odor_lc='lightgray'\n",
    "odor_lw=0.5\n",
    "# ---------------------------------------------------------------------\n",
    "fig, ax = pl.subplots()\n",
    "sns.scatterplot(data=df0, x=\"ft_posx\", y=\"ft_posy\", ax=ax, \n",
    "                hue=hue_varname, s=0.5, edgecolor='none', palette=palette)\n",
    "butil.plot_odor_corridor(ax, odor_xmin=odor_xmin, odor_xmax=odor_xmax)\n",
    "ax.legend(bbox_to_anchor=(1,1), loc='upper left', title=hue_varname)\n",
    "ax.set_title(fly_id)\n",
    "pl.subplots_adjust(left=0.2, right=0.8)\n",
    "# Center corridor\n",
    "xmax = np.ceil(df0['ft_posx'].abs().max())\n",
    "ax.set_xlim([-xmax-10, xmax+10])\n",
    "# label figure and save\n",
    "util.label_figure(fig, fig_id)\n",
    "figname = 'trajectory_{}'.format(fly_id)\n",
    "pl.savefig(os.path.join(save_dir, '{}.png'.format(figname))) #, dpi=dpi)\n",
    "print(os.path.join(save_dir, '{}.png'.format(figname)))"
   ]
  },
  {
   "cell_type": "code",
   "execution_count": null,
   "id": "86d3c564",
   "metadata": {},
   "outputs": [],
   "source": []
  },
  {
   "cell_type": "code",
   "execution_count": null,
   "id": "0ebcb14b",
   "metadata": {},
   "outputs": [],
   "source": []
  }
 ],
 "metadata": {
  "kernelspec": {
   "display_name": "Python [conda env:plume] *",
   "language": "python",
   "name": "conda-env-plume-py"
  },
  "language_info": {
   "codemirror_mode": {
    "name": "ipython",
    "version": 3
   },
   "file_extension": ".py",
   "mimetype": "text/x-python",
   "name": "python",
   "nbconvert_exporter": "python",
   "pygments_lexer": "ipython3",
   "version": "3.9.13"
  }
 },
 "nbformat": 4,
 "nbformat_minor": 5
}
